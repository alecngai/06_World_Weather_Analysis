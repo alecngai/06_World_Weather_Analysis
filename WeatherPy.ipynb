{
 "cells": [
  {
   "cell_type": "code",
   "execution_count": 92,
   "source": [
    "import requests\r\n",
    "import pandas as pd\r\n",
    "from config import weather_api_key\r\n",
    "\r\n",
    "# Use the citipy module to determine city based on latitude and longitude.\r\n",
    "from citipy import citipy"
   ],
   "outputs": [],
   "metadata": {}
  },
  {
   "cell_type": "code",
   "execution_count": 93,
   "source": [
    "# Starting URL for Weather Map API Call.\r\n",
    "url = \"http://api.openweathermap.org/data/2.5/weather?units=Metric&APPID=\" + weather_api_key\r\n",
    "print(url)"
   ],
   "outputs": [
    {
     "output_type": "stream",
     "name": "stdout",
     "text": [
      "http://api.openweathermap.org/data/2.5/weather?units=Metric&APPID=914d1f676bc005f30fced2fbdc7c3f54\n"
     ]
    }
   ],
   "metadata": {}
  },
  {
   "cell_type": "code",
   "execution_count": 94,
   "source": [
    "city_url = url + \"&q=\" + \"Toronto\"\r\n",
    "print(city_url)"
   ],
   "outputs": [
    {
     "output_type": "stream",
     "name": "stdout",
     "text": [
      "http://api.openweathermap.org/data/2.5/weather?units=Metric&APPID=914d1f676bc005f30fced2fbdc7c3f54&q=Toronto\n"
     ]
    }
   ],
   "metadata": {}
  },
  {
   "cell_type": "code",
   "execution_count": 95,
   "source": [
    "weather_response = requests.get(city_url)\r\n",
    "boston_data = weather_response.json()\r\n",
    "if weather_response.status_code == 200:\r\n",
    "    print(f\"City Weather found.\")\r\n",
    "else:\r\n",
    "    print(f\"City weather not found.\")\r\n"
   ],
   "outputs": [
    {
     "output_type": "stream",
     "name": "stdout",
     "text": [
      "City Weather found.\n"
     ]
    }
   ],
   "metadata": {}
  },
  {
   "cell_type": "code",
   "execution_count": 96,
   "source": [
    "lat = boston_data[\"coord\"][\"lat\"]\r\n",
    "lng = boston_data[\"coord\"][\"lon\"]\r\n",
    "max_temp = boston_data[\"main\"][\"temp_max\"]\r\n",
    "humidity = boston_data[\"main\"][\"humidity\"]\r\n",
    "clouds = boston_data[\"clouds\"][\"all\"]\r\n",
    "wind = boston_data[\"wind\"][\"speed\"]\r\n",
    "print(lat, lng, max_temp, humidity, clouds, wind)"
   ],
   "outputs": [
    {
     "output_type": "stream",
     "name": "stdout",
     "text": [
      "43.7001 -79.4163 29.92 49 1 0.89\n"
     ]
    }
   ],
   "metadata": {}
  },
  {
   "cell_type": "code",
   "execution_count": 97,
   "source": [
    "# Import the datetime module from the datetime library.\r\n",
    "from datetime import datetime\r\n",
    "# Get the date from the JSON file.\r\n",
    "date = boston_data[\"dt\"]\r\n",
    "# Convert the UTC date to a date format with year, month, day, hours, minutes, and seconds.\r\n",
    "datetime.utcfromtimestamp(date)"
   ],
   "outputs": [
    {
     "output_type": "execute_result",
     "data": {
      "text/plain": [
       "datetime.datetime(2021, 8, 5, 19, 33, 44)"
      ]
     },
     "metadata": {},
     "execution_count": 97
    }
   ],
   "metadata": {}
  },
  {
   "cell_type": "markdown",
   "source": [
    "======================================================"
   ],
   "metadata": {}
  },
  {
   "cell_type": "code",
   "execution_count": 98,
   "source": [
    "# Import the datetime module from the datetime library.\r\n",
    "from datetime import datetime"
   ],
   "outputs": [],
   "metadata": {}
  },
  {
   "cell_type": "code",
   "execution_count": 99,
   "source": [
    "# Create an empty list to hold the weather data.\r\n",
    "city_data = []\r\n",
    "\r\n",
    "cities = [\"Toronto\", \"Pittsburgh\", \"Austin\", \"New York\", \"Los Angeles\", \"Seattle\"]\r\n",
    "# Print the beginning of the logging.\r\n",
    "print(\"Beginning Data Retrieval     \")\r\n",
    "print(\"-----------------------------\")\r\n",
    "\r\n",
    "# Create counters.\r\n",
    "record_count = 1\r\n",
    "set_count = 1"
   ],
   "outputs": [
    {
     "output_type": "stream",
     "name": "stdout",
     "text": [
      "Beginning Data Retrieval     \n",
      "-----------------------------\n"
     ]
    }
   ],
   "metadata": {}
  },
  {
   "cell_type": "code",
   "execution_count": 100,
   "source": [
    "# Loop through all the cities in the list.\r\n",
    "for i, city in enumerate(cities):\r\n",
    "\r\n",
    "    # Group cities in sets of 50 for logging purposes.\r\n",
    "    if (i % 50 == 0 and i >= 50):\r\n",
    "        set_count += 1\r\n",
    "        record_count = 1\r\n",
    "    # Create endpoint URL with each city.\r\n",
    "    city_url = url + \"&q=\" + city.replace(\" \",\"+\")\r\n",
    "\r\n",
    "    # Log the URL, record, and set numbers and the city.\r\n",
    "    print(f\"Processing Record {record_count} of Set {set_count} | {city}\")\r\n",
    "    # Add 1 to the record count.\r\n",
    "    record_count += 1\r\n",
    "\r\n",
    "    # Run an API request for each of the cities.\r\n",
    "    try:\r\n",
    "        # Parse the JSON and retrieve data.\r\n",
    "        city_weather = requests.get(city_url).json()\r\n",
    "        # Parse out the needed data.\r\n",
    "        city_lat = city_weather[\"coord\"][\"lat\"]\r\n",
    "        city_lng = city_weather[\"coord\"][\"lon\"]\r\n",
    "        city_max_temp = city_weather[\"main\"][\"temp_max\"]\r\n",
    "        city_humidity = city_weather[\"main\"][\"humidity\"]\r\n",
    "        city_clouds = city_weather[\"clouds\"][\"all\"]\r\n",
    "        city_wind = city_weather[\"wind\"][\"speed\"]\r\n",
    "        city_country = city_weather[\"sys\"][\"country\"]\r\n",
    "        # Convert the date to ISO standard.\r\n",
    "        city_date = datetime.utcfromtimestamp(city_weather[\"dt\"]).strftime('%Y-%m-%d %H:%M:%S')\r\n",
    "        # Append the city information into city_data list.\r\n",
    "        city_data.append({\"City\": city.title(),\r\n",
    "                          \"Lat\": city_lat,\r\n",
    "                          \"Lng\": city_lng,\r\n",
    "                          \"Max Temp\": city_max_temp,\r\n",
    "                          \"Humidity\": city_humidity,\r\n",
    "                          \"Cloudiness\": city_clouds,\r\n",
    "                          \"Wind Speed\": city_wind,\r\n",
    "                          \"Country\": city_country,\r\n",
    "                          \"Date\": city_date})\r\n",
    "\r\n",
    "# If an error is experienced, skip the city.\r\n",
    "    except:\r\n",
    "        print(\"City not found. Skipping...\")\r\n",
    "        pass\r\n",
    "\r\n",
    "# Indicate that Data Loading is complete.\r\n",
    "print(\"-----------------------------\")\r\n",
    "print(\"Data Retrieval Complete      \")\r\n",
    "print(\"-----------------------------\")"
   ],
   "outputs": [
    {
     "output_type": "stream",
     "name": "stdout",
     "text": [
      "Processing Record 1 of Set 1 | Toronto\n",
      "Processing Record 2 of Set 1 | Pittsburgh\n",
      "Processing Record 3 of Set 1 | Austin\n",
      "Processing Record 4 of Set 1 | New York\n",
      "Processing Record 5 of Set 1 | Los Angeles\n",
      "Processing Record 6 of Set 1 | Seattle\n",
      "-----------------------------\n",
      "Data Retrieval Complete      \n",
      "-----------------------------\n"
     ]
    }
   ],
   "metadata": {}
  },
  {
   "cell_type": "code",
   "execution_count": 101,
   "source": [
    "# Convert the array of dictionaries to a Pandas DataFrame.\r\n",
    "city_data_df = pd.DataFrame(city_data)\r\n",
    "city_data_df.head(10)"
   ],
   "outputs": [
    {
     "output_type": "execute_result",
     "data": {
      "text/plain": [
       "          City      Lat       Lng  Max Temp  Humidity  Cloudiness  Wind Speed  \\\n",
       "0      Toronto  43.7001  -79.4163     29.92        49           1        0.89   \n",
       "1   Pittsburgh  40.4406  -79.9959     30.67        48           1        1.34   \n",
       "2       Austin  30.2672  -97.7431     29.94        87          75        2.57   \n",
       "3     New York  40.7143  -74.0060     29.16        62          90        1.54   \n",
       "4  Los Angeles  34.0522 -118.2437     43.63        51           1        0.00   \n",
       "5      Seattle  47.6062 -122.3321     29.82        51          75        0.00   \n",
       "\n",
       "  Country                 Date  \n",
       "0      CA  2021-08-05 19:33:44  \n",
       "1      US  2021-08-05 19:38:52  \n",
       "2      US  2021-08-05 19:38:45  \n",
       "3      US  2021-08-05 19:37:09  \n",
       "4      US  2021-08-05 19:38:46  \n",
       "5      US  2021-08-05 19:37:01  "
      ],
      "text/html": [
       "<div>\n",
       "<style scoped>\n",
       "    .dataframe tbody tr th:only-of-type {\n",
       "        vertical-align: middle;\n",
       "    }\n",
       "\n",
       "    .dataframe tbody tr th {\n",
       "        vertical-align: top;\n",
       "    }\n",
       "\n",
       "    .dataframe thead th {\n",
       "        text-align: right;\n",
       "    }\n",
       "</style>\n",
       "<table border=\"1\" class=\"dataframe\">\n",
       "  <thead>\n",
       "    <tr style=\"text-align: right;\">\n",
       "      <th></th>\n",
       "      <th>City</th>\n",
       "      <th>Lat</th>\n",
       "      <th>Lng</th>\n",
       "      <th>Max Temp</th>\n",
       "      <th>Humidity</th>\n",
       "      <th>Cloudiness</th>\n",
       "      <th>Wind Speed</th>\n",
       "      <th>Country</th>\n",
       "      <th>Date</th>\n",
       "    </tr>\n",
       "  </thead>\n",
       "  <tbody>\n",
       "    <tr>\n",
       "      <th>0</th>\n",
       "      <td>Toronto</td>\n",
       "      <td>43.7001</td>\n",
       "      <td>-79.4163</td>\n",
       "      <td>29.92</td>\n",
       "      <td>49</td>\n",
       "      <td>1</td>\n",
       "      <td>0.89</td>\n",
       "      <td>CA</td>\n",
       "      <td>2021-08-05 19:33:44</td>\n",
       "    </tr>\n",
       "    <tr>\n",
       "      <th>1</th>\n",
       "      <td>Pittsburgh</td>\n",
       "      <td>40.4406</td>\n",
       "      <td>-79.9959</td>\n",
       "      <td>30.67</td>\n",
       "      <td>48</td>\n",
       "      <td>1</td>\n",
       "      <td>1.34</td>\n",
       "      <td>US</td>\n",
       "      <td>2021-08-05 19:38:52</td>\n",
       "    </tr>\n",
       "    <tr>\n",
       "      <th>2</th>\n",
       "      <td>Austin</td>\n",
       "      <td>30.2672</td>\n",
       "      <td>-97.7431</td>\n",
       "      <td>29.94</td>\n",
       "      <td>87</td>\n",
       "      <td>75</td>\n",
       "      <td>2.57</td>\n",
       "      <td>US</td>\n",
       "      <td>2021-08-05 19:38:45</td>\n",
       "    </tr>\n",
       "    <tr>\n",
       "      <th>3</th>\n",
       "      <td>New York</td>\n",
       "      <td>40.7143</td>\n",
       "      <td>-74.0060</td>\n",
       "      <td>29.16</td>\n",
       "      <td>62</td>\n",
       "      <td>90</td>\n",
       "      <td>1.54</td>\n",
       "      <td>US</td>\n",
       "      <td>2021-08-05 19:37:09</td>\n",
       "    </tr>\n",
       "    <tr>\n",
       "      <th>4</th>\n",
       "      <td>Los Angeles</td>\n",
       "      <td>34.0522</td>\n",
       "      <td>-118.2437</td>\n",
       "      <td>43.63</td>\n",
       "      <td>51</td>\n",
       "      <td>1</td>\n",
       "      <td>0.00</td>\n",
       "      <td>US</td>\n",
       "      <td>2021-08-05 19:38:46</td>\n",
       "    </tr>\n",
       "    <tr>\n",
       "      <th>5</th>\n",
       "      <td>Seattle</td>\n",
       "      <td>47.6062</td>\n",
       "      <td>-122.3321</td>\n",
       "      <td>29.82</td>\n",
       "      <td>51</td>\n",
       "      <td>75</td>\n",
       "      <td>0.00</td>\n",
       "      <td>US</td>\n",
       "      <td>2021-08-05 19:37:01</td>\n",
       "    </tr>\n",
       "  </tbody>\n",
       "</table>\n",
       "</div>"
      ]
     },
     "metadata": {},
     "execution_count": 101
    }
   ],
   "metadata": {}
  },
  {
   "cell_type": "code",
   "execution_count": 102,
   "source": [
    "# Create the output file (CSV).\r\n",
    "output_data_file = \"weather_data/cities.csv\"\r\n",
    "# Export the City_Data into a CSV.\r\n",
    "city_data_df.to_csv(output_data_file, index_label=\"City_ID\")"
   ],
   "outputs": [],
   "metadata": {}
  }
 ],
 "metadata": {
  "orig_nbformat": 4,
  "language_info": {
   "name": "python",
   "version": "3.7.10",
   "mimetype": "text/x-python",
   "codemirror_mode": {
    "name": "ipython",
    "version": 3
   },
   "pygments_lexer": "ipython3",
   "nbconvert_exporter": "python",
   "file_extension": ".py"
  },
  "kernelspec": {
   "name": "python3",
   "display_name": "Python 3.7.10 64-bit ('PythonData': conda)"
  },
  "interpreter": {
   "hash": "1acb66a48c8935367e716eae677f3a908e584871a958ce60b2f5a4fc6697c81f"
  }
 },
 "nbformat": 4,
 "nbformat_minor": 2
}